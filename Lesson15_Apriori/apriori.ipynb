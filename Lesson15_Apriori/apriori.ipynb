{
 "cells": [
  {
   "cell_type": "code",
   "execution_count": 112,
   "metadata": {},
   "outputs": [],
   "source": [
    "import pandas as pd\n",
    "import matplotlib.pyplot as plt\n",
    "import numpy as np\n",
    "from apyori import apriori\n",
    "import warnings\n",
    "warnings.filterwarnings(\"ignore\")"
   ]
  },
  {
   "attachments": {},
   "cell_type": "markdown",
   "metadata": {},
   "source": [
    "Import dataset"
   ]
  },
  {
   "cell_type": "code",
   "execution_count": 26,
   "metadata": {},
   "outputs": [],
   "source": [
    "df = pd.read_csv(\"Groceries_dataset.csv\")\n"
   ]
  },
  {
   "attachments": {},
   "cell_type": "markdown",
   "metadata": {},
   "source": [
    "Get transaction list"
   ]
  },
  {
   "cell_type": "code",
   "execution_count": 70,
   "metadata": {},
   "outputs": [
    {
     "data": {
      "text/plain": [
       "array(['sausage', 'whole milk', 'semi-finished bread', ...,\n",
       "       'semi-finished bread', 'bottled beer', 'other vegetables'],\n",
       "      dtype='<U32')"
      ]
     },
     "execution_count": 70,
     "metadata": {},
     "output_type": "execute_result"
    }
   ],
   "source": [
    "df_grouped = df.groupby([\"Member_number\",\"Date\"])[\"itemDescription\"].apply(list)\n",
    "transactions = df_grouped.to_frame()['itemDescription'].tolist()\n"
   ]
  },
  {
   "attachments": {},
   "cell_type": "markdown",
   "metadata": {},
   "source": [
    "Create rules"
   ]
  },
  {
   "cell_type": "code",
   "execution_count": 135,
   "metadata": {},
   "outputs": [
    {
     "data": {
      "text/plain": [
       "[RelationRecord(items=frozenset({'beverages', 'soda'}), support=0.001871282496825503, ordered_statistics=[OrderedStatistic(items_base=frozenset({'beverages'}), items_add=frozenset({'soda'}), confidence=0.11290322580645162, lift=1.1626778855760054)]),\n",
       " RelationRecord(items=frozenset({'yogurt', 'chewing gum'}), support=0.001403461872619127, ordered_statistics=[OrderedStatistic(items_base=frozenset({'chewing gum'}), items_add=frozenset({'yogurt'}), confidence=0.11666666666666667, lift=1.358508430609598)]),\n",
       " RelationRecord(items=frozenset({'yogurt', 'detergent'}), support=0.0010693042839002875, ordered_statistics=[OrderedStatistic(items_base=frozenset({'detergent'}), items_add=frozenset({'yogurt'}), confidence=0.12403100775193798, lift=1.4442614544686756)]),\n",
       " RelationRecord(items=frozenset({'flour', 'tropical fruit'}), support=0.0010693042839002875, ordered_statistics=[OrderedStatistic(items_base=frozenset({'flour'}), items_add=frozenset({'tropical fruit'}), confidence=0.10958904109589042, lift=1.6171408500175626)]),\n",
       " RelationRecord(items=frozenset({'frankfurter', 'other vegetables'}), support=0.005146026866270133, ordered_statistics=[OrderedStatistic(items_base=frozenset({'frankfurter'}), items_add=frozenset({'other vegetables'}), confidence=0.13628318584070798, lift=1.1161495948191098)]),\n",
       " RelationRecord(items=frozenset({'yogurt', 'herbs'}), support=0.0011361358016440553, ordered_statistics=[OrderedStatistic(items_base=frozenset({'herbs'}), items_add=frozenset({'yogurt'}), confidence=0.10759493670886075, lift=1.2528739595133722)]),\n",
       " RelationRecord(items=frozenset({'soda', 'oil'}), support=0.001804450979081735, ordered_statistics=[OrderedStatistic(items_base=frozenset({'oil'}), items_add=frozenset({'soda'}), confidence=0.12107623318385649, lift=1.246843549298035)]),\n",
       " RelationRecord(items=frozenset({'rolls/buns', 'packaged fruit/vegetables'}), support=0.0012029673193878234, ordered_statistics=[OrderedStatistic(items_base=frozenset({'packaged fruit/vegetables'}), items_add=frozenset({'rolls/buns'}), confidence=0.14173228346456695, lift=1.2884205087972755)]),\n",
       " RelationRecord(items=frozenset({'rolls/buns', 'processed cheese'}), support=0.0014702933903628951, ordered_statistics=[OrderedStatistic(items_base=frozenset({'processed cheese'}), items_add=frozenset({'rolls/buns'}), confidence=0.14473684210526316, lift=1.315733516659206)]),\n",
       " RelationRecord(items=frozenset({'root vegetables', 'processed cheese'}), support=0.0010693042839002875, ordered_statistics=[OrderedStatistic(items_base=frozenset({'processed cheese'}), items_add=frozenset({'root vegetables'}), confidence=0.10526315789473686, lift=1.5130188583851563)]),\n",
       " RelationRecord(items=frozenset({'rolls/buns', 'red/blush wine'}), support=0.0013366303548753592, ordered_statistics=[OrderedStatistic(items_base=frozenset({'red/blush wine'}), items_add=frozenset({'rolls/buns'}), confidence=0.12738853503184713, lift=1.158028341240297)]),\n",
       " RelationRecord(items=frozenset({'rolls/buns', 'seasonal products'}), support=0.0010024727661565194, ordered_statistics=[OrderedStatistic(items_base=frozenset({'seasonal products'}), items_add=frozenset({'rolls/buns'}), confidence=0.14150943396226415, lift=1.2863946903872165)]),\n",
       " RelationRecord(items=frozenset({'whole milk', 'semi-finished bread'}), support=0.001670787943594199, ordered_statistics=[OrderedStatistic(items_base=frozenset({'semi-finished bread'}), items_add=frozenset({'whole milk'}), confidence=0.176056338028169, lift=1.1148247930239072)]),\n",
       " RelationRecord(items=frozenset({'yogurt', 'soft cheese'}), support=0.0012697988371315912, ordered_statistics=[OrderedStatistic(items_base=frozenset({'soft cheese'}), items_add=frozenset({'yogurt'}), confidence=0.12666666666666665, lift=1.4749520103761347)]),\n",
       " RelationRecord(items=frozenset({'rolls/buns', 'soda', 'other vegetables'}), support=0.0011361358016440553, ordered_statistics=[OrderedStatistic(items_base=frozenset({'rolls/buns', 'other vegetables'}), items_add=frozenset({'soda'}), confidence=0.10759493670886075, lift=1.108013102529032), OrderedStatistic(items_base=frozenset({'rolls/buns', 'soda'}), items_add=frozenset({'other vegetables'}), confidence=0.14049586776859505, lift=1.150651160055549)]),\n",
       " RelationRecord(items=frozenset({'whole milk', 'rolls/buns', 'sausage'}), support=0.0011361358016440553, ordered_statistics=[OrderedStatistic(items_base=frozenset({'rolls/buns', 'sausage'}), items_add=frozenset({'whole milk'}), confidence=0.2125, lift=1.345593525179856), OrderedStatistic(items_base=frozenset({'whole milk', 'sausage'}), items_add=frozenset({'rolls/buns'}), confidence=0.12686567164179105, lift=1.1532752398396837)]),\n",
       " RelationRecord(items=frozenset({'whole milk', 'soda', 'sausage'}), support=0.0010693042839002875, ordered_statistics=[OrderedStatistic(items_base=frozenset({'soda', 'sausage'}), items_add=frozenset({'whole milk'}), confidence=0.17977528089887643, lift=1.138373901011379), OrderedStatistic(items_base=frozenset({'whole milk', 'sausage'}), items_add=frozenset({'soda'}), confidence=0.11940298507462688, lift=1.2296124333596987)]),\n",
       " RelationRecord(items=frozenset({'whole milk', 'yogurt', 'sausage'}), support=0.0014702933903628951, ordered_statistics=[OrderedStatistic(items_base=frozenset({'whole milk', 'sausage'}), items_add=frozenset({'yogurt'}), confidence=0.16417910447761194, lift=1.9117602648237413), OrderedStatistic(items_base=frozenset({'yogurt', 'sausage'}), items_add=frozenset({'whole milk'}), confidence=0.2558139534883721, lift=1.6198663504217148), OrderedStatistic(items_base=frozenset({'whole milk', 'yogurt'}), items_add=frozenset({'sausage'}), confidence=0.1317365269461078, lift=2.1829165589087607)])]"
      ]
     },
     "execution_count": 135,
     "metadata": {},
     "output_type": "execute_result"
    }
   ],
   "source": [
    "rules = list(apriori(transactions, min_support = 0.001, min_confidence = 0.1, min_lift = 1.1, min_length = 2))\n",
    "rules"
   ]
  },
  {
   "cell_type": "code",
   "execution_count": 136,
   "metadata": {},
   "outputs": [],
   "source": [
    "def rules_to_df(rules):\n",
    "    rules_df = pd.DataFrame()\n",
    "    for rule in rules:\n",
    "        support = rule.support\n",
    "        for os in rule.ordered_statistics:\n",
    "            item_base = list(os.items_base)\n",
    "            item_add = list(os.items_add)\n",
    "            lift =  os.lift\n",
    "            confidence =  os.confidence\n",
    "        rules_df = rules_df.append(pd.DataFrame([[support,item_base,item_add,lift,confidence]], columns = [\"Support\",\"Item Base\", \"Item Add\",\"Lift\",\"Confidence\"]))\n",
    "    return rules_df"
   ]
  },
  {
   "attachments": {},
   "cell_type": "markdown",
   "metadata": {},
   "source": [
    "Sort by Lift"
   ]
  },
  {
   "cell_type": "code",
   "execution_count": 137,
   "metadata": {},
   "outputs": [
    {
     "data": {
      "text/html": [
       "<div>\n",
       "<style scoped>\n",
       "    .dataframe tbody tr th:only-of-type {\n",
       "        vertical-align: middle;\n",
       "    }\n",
       "\n",
       "    .dataframe tbody tr th {\n",
       "        vertical-align: top;\n",
       "    }\n",
       "\n",
       "    .dataframe thead th {\n",
       "        text-align: right;\n",
       "    }\n",
       "</style>\n",
       "<table border=\"1\" class=\"dataframe\">\n",
       "  <thead>\n",
       "    <tr style=\"text-align: right;\">\n",
       "      <th></th>\n",
       "      <th>Support</th>\n",
       "      <th>Item Base</th>\n",
       "      <th>Item Add</th>\n",
       "      <th>Lift</th>\n",
       "      <th>Confidence</th>\n",
       "    </tr>\n",
       "  </thead>\n",
       "  <tbody>\n",
       "    <tr>\n",
       "      <th>0</th>\n",
       "      <td>0.001470</td>\n",
       "      <td>[whole milk, yogurt]</td>\n",
       "      <td>[sausage]</td>\n",
       "      <td>2.182917</td>\n",
       "      <td>0.131737</td>\n",
       "    </tr>\n",
       "    <tr>\n",
       "      <th>0</th>\n",
       "      <td>0.001069</td>\n",
       "      <td>[flour]</td>\n",
       "      <td>[tropical fruit]</td>\n",
       "      <td>1.617141</td>\n",
       "      <td>0.109589</td>\n",
       "    </tr>\n",
       "    <tr>\n",
       "      <th>0</th>\n",
       "      <td>0.001069</td>\n",
       "      <td>[processed cheese]</td>\n",
       "      <td>[root vegetables]</td>\n",
       "      <td>1.513019</td>\n",
       "      <td>0.105263</td>\n",
       "    </tr>\n",
       "    <tr>\n",
       "      <th>0</th>\n",
       "      <td>0.001270</td>\n",
       "      <td>[soft cheese]</td>\n",
       "      <td>[yogurt]</td>\n",
       "      <td>1.474952</td>\n",
       "      <td>0.126667</td>\n",
       "    </tr>\n",
       "    <tr>\n",
       "      <th>0</th>\n",
       "      <td>0.001069</td>\n",
       "      <td>[detergent]</td>\n",
       "      <td>[yogurt]</td>\n",
       "      <td>1.444261</td>\n",
       "      <td>0.124031</td>\n",
       "    </tr>\n",
       "    <tr>\n",
       "      <th>0</th>\n",
       "      <td>0.001403</td>\n",
       "      <td>[chewing gum]</td>\n",
       "      <td>[yogurt]</td>\n",
       "      <td>1.358508</td>\n",
       "      <td>0.116667</td>\n",
       "    </tr>\n",
       "    <tr>\n",
       "      <th>0</th>\n",
       "      <td>0.001470</td>\n",
       "      <td>[processed cheese]</td>\n",
       "      <td>[rolls/buns]</td>\n",
       "      <td>1.315734</td>\n",
       "      <td>0.144737</td>\n",
       "    </tr>\n",
       "    <tr>\n",
       "      <th>0</th>\n",
       "      <td>0.001203</td>\n",
       "      <td>[packaged fruit/vegetables]</td>\n",
       "      <td>[rolls/buns]</td>\n",
       "      <td>1.288421</td>\n",
       "      <td>0.141732</td>\n",
       "    </tr>\n",
       "    <tr>\n",
       "      <th>0</th>\n",
       "      <td>0.001002</td>\n",
       "      <td>[seasonal products]</td>\n",
       "      <td>[rolls/buns]</td>\n",
       "      <td>1.286395</td>\n",
       "      <td>0.141509</td>\n",
       "    </tr>\n",
       "    <tr>\n",
       "      <th>0</th>\n",
       "      <td>0.001136</td>\n",
       "      <td>[herbs]</td>\n",
       "      <td>[yogurt]</td>\n",
       "      <td>1.252874</td>\n",
       "      <td>0.107595</td>\n",
       "    </tr>\n",
       "  </tbody>\n",
       "</table>\n",
       "</div>"
      ],
      "text/plain": [
       "    Support                    Item Base           Item Add      Lift  \\\n",
       "0  0.001470         [whole milk, yogurt]          [sausage]  2.182917   \n",
       "0  0.001069                      [flour]   [tropical fruit]  1.617141   \n",
       "0  0.001069           [processed cheese]  [root vegetables]  1.513019   \n",
       "0  0.001270                [soft cheese]           [yogurt]  1.474952   \n",
       "0  0.001069                  [detergent]           [yogurt]  1.444261   \n",
       "0  0.001403                [chewing gum]           [yogurt]  1.358508   \n",
       "0  0.001470           [processed cheese]       [rolls/buns]  1.315734   \n",
       "0  0.001203  [packaged fruit/vegetables]       [rolls/buns]  1.288421   \n",
       "0  0.001002          [seasonal products]       [rolls/buns]  1.286395   \n",
       "0  0.001136                      [herbs]           [yogurt]  1.252874   \n",
       "\n",
       "   Confidence  \n",
       "0    0.131737  \n",
       "0    0.109589  \n",
       "0    0.105263  \n",
       "0    0.126667  \n",
       "0    0.124031  \n",
       "0    0.116667  \n",
       "0    0.144737  \n",
       "0    0.141732  \n",
       "0    0.141509  \n",
       "0    0.107595  "
      ]
     },
     "execution_count": 137,
     "metadata": {},
     "output_type": "execute_result"
    }
   ],
   "source": [
    "rules_df =rules_to_df(rules)\n",
    "rules_df.sort_values(\"Lift\", ascending=False).head(10)"
   ]
  },
  {
   "cell_type": "code",
   "execution_count": null,
   "metadata": {},
   "outputs": [],
   "source": []
  }
 ],
 "metadata": {
  "kernelspec": {
   "display_name": "Python 3",
   "language": "python",
   "name": "python3"
  },
  "language_info": {
   "codemirror_mode": {
    "name": "ipython",
    "version": 3
   },
   "file_extension": ".py",
   "mimetype": "text/x-python",
   "name": "python",
   "nbconvert_exporter": "python",
   "pygments_lexer": "ipython3",
   "version": "3.9.8"
  },
  "orig_nbformat": 4,
  "vscode": {
   "interpreter": {
    "hash": "be92786af67a107a1d03f991d767635e05d11f2b019c3d45eb660fea2d9ee973"
   }
  }
 },
 "nbformat": 4,
 "nbformat_minor": 2
}
